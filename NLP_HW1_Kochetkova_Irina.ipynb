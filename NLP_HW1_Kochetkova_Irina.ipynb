{
  "nbformat": 4,
  "nbformat_minor": 0,
  "metadata": {
    "colab": {
      "provenance": [],
      "collapsed_sections": []
    },
    "kernelspec": {
      "name": "python3",
      "display_name": "Python 3"
    },
    "language_info": {
      "name": "python"
    }
  },
  "cells": [
    {
      "cell_type": "markdown",
      "source": [
        "# Домашнее задание 1 (до 27.09.2022)"
      ],
      "metadata": {
        "id": "u0pV9qwGN1Ci"
      }
    },
    {
      "cell_type": "markdown",
      "source": [
        "\n",
        "\n",
        "1.   Сначала нам надо скачать дату -- соберите как минимум 60 (30 положительных и 30 отрицательных) отзывов на похожие продукты (не надо мешать отзывы на отели с отзывами на ноутбуки) для составления \"тонального словаря\" (чем больше отзывов, тем лучше) и 10 отзывов для проверки качества. (2 балла в случае сбора путём парсинга, 1 - если найдете уже готовые данные или просто закопипастите без парсинга)\n",
        "\n"
      ],
      "metadata": {
        "id": "msKdxS4_NcaZ"
      }
    },
    {
      "cell_type": "markdown",
      "source": [
        "# Мой план действий (ибо я совсем забыла, как делать это сходу):\n",
        "\n",
        "1.  Будем парсить сайт Metacritic (`https://www.metacritic.com`).\n",
        "2.  Возьмем фильмы жанра Fantasy(`https://www.metacritic.com/browse/movies/genre/userscore/fantasy?view=detailed`), отсортированные по пользовательскому баллу.\n",
        "3. Посмотрим в HTML-раскладке кол-во страниц, перейдем на последнюю (строка `<ul class=\"pages\">`)\n",
        "4. С последней страницы возьмем 20 (может потом поменяю) последних фильмов\n",
        "5. Сохраним списком ссылки на их рецензии\n",
        "6. Проходясь по спискам, отсортированным по полезности (`\n",
        "?sort-by=most-helpful&num_items=100`), будем брать первые 5 отзывов\n",
        "7. Определяем статус (+/-) фильма:\n",
        "Нам нужны либо\n",
        "*   Отличные `<div class=\"metascore_w user large movie positive indiv perfect\">`(10)\n",
        "*  Хорошие `<div class=\"metascore_w user large movie positive indiv\">` (9-7)\n",
        "*  Отстойные `<div class=\"metascore_w user large movie negative indiv\">` (3-0)\n",
        "8. Сохраняем текст отзыва в соответствующий документ (все равно, потом все обрабатывать): `<div class=\"review_body\">`\n",
        "9. То же (4-8) делаем с фильмами с первой страницы\n",
        "10. Глазками находим (с других страниц) 5 положительных и 5 отрицательных отзывов\n",
        "На выход: два документа (+/-) пробных, два документа отзывов (+/-) \n"
      ],
      "metadata": {
        "id": "yJlnvFVmmvRo"
      }
    },
    {
      "cell_type": "code",
      "source": [
        "!pip install fake_useragent"
      ],
      "metadata": {
        "colab": {
          "base_uri": "https://localhost:8080/"
        },
        "id": "kYTLWOJn-Yen",
        "outputId": "9e6c5e6a-6f9e-47e1-fa5f-92a4682e97f3"
      },
      "execution_count": 3,
      "outputs": [
        {
          "output_type": "stream",
          "name": "stdout",
          "text": [
            "Looking in indexes: https://pypi.org/simple, https://us-python.pkg.dev/colab-wheels/public/simple/\n",
            "Collecting fake_useragent\n",
            "  Downloading fake-useragent-0.1.11.tar.gz (13 kB)\n",
            "Building wheels for collected packages: fake-useragent\n",
            "  Building wheel for fake-useragent (setup.py) ... \u001b[?25l\u001b[?25hdone\n",
            "  Created wheel for fake-useragent: filename=fake_useragent-0.1.11-py3-none-any.whl size=13502 sha256=fb91447779b63eb84de052e5ac768e286d7c2a836351f2cf1ff1a21d7bbff162\n",
            "  Stored in directory: /root/.cache/pip/wheels/ed/f7/62/50ab6c9a0b5567267ab76a9daa9d06315704209b2c5d032031\n",
            "Successfully built fake-useragent\n",
            "Installing collected packages: fake-useragent\n",
            "Successfully installed fake-useragent-0.1.11\n",
            "Looking in indexes: https://pypi.org/simple, https://us-python.pkg.dev/colab-wheels/public/simple/\n",
            "Requirement already satisfied: textblob in /usr/local/lib/python3.7/dist-packages (0.15.3)\n",
            "Requirement already satisfied: nltk>=3.1 in /usr/local/lib/python3.7/dist-packages (from textblob) (3.7)\n",
            "Requirement already satisfied: joblib in /usr/local/lib/python3.7/dist-packages (from nltk>=3.1->textblob) (1.1.0)\n",
            "Requirement already satisfied: regex>=2021.8.3 in /usr/local/lib/python3.7/dist-packages (from nltk>=3.1->textblob) (2022.6.2)\n",
            "Requirement already satisfied: tqdm in /usr/local/lib/python3.7/dist-packages (from nltk>=3.1->textblob) (4.64.1)\n",
            "Requirement already satisfied: click in /usr/local/lib/python3.7/dist-packages (from nltk>=3.1->textblob) (7.1.2)\n"
          ]
        }
      ]
    },
    {
      "cell_type": "code",
      "source": [
        "!pip install langid"
      ],
      "metadata": {
        "colab": {
          "base_uri": "https://localhost:8080/"
        },
        "id": "x8kwYmM64bDj",
        "outputId": "1b30aba6-0963-4da7-8abe-c59c3caad503"
      },
      "execution_count": 27,
      "outputs": [
        {
          "output_type": "stream",
          "name": "stdout",
          "text": [
            "Looking in indexes: https://pypi.org/simple, https://us-python.pkg.dev/colab-wheels/public/simple/\n",
            "Requirement already satisfied: langid in /usr/local/lib/python3.7/dist-packages (1.1.6)\n",
            "Requirement already satisfied: numpy in /usr/local/lib/python3.7/dist-packages (from langid) (1.21.6)\n"
          ]
        }
      ]
    },
    {
      "cell_type": "code",
      "source": [
        "import requests\n",
        "from pprint import pprint\n",
        "import sqlite3\n",
        "from bs4 import BeautifulSoup\n",
        "import re\n",
        "from fake_useragent import UserAgent\n",
        "import nltk\n",
        "from nltk.tokenize import word_tokenize\n",
        "from nltk.corpus import stopwords\n",
        "nltk.download('stopwords')\n",
        "nltk.download('omw-1.4')\n",
        "nltk.download('punkt')\n",
        "nltk.download('wordnet')\n",
        "import langid\n",
        "from nltk.stem import WordNetLemmatizer\n",
        "nltk.download('averaged_perceptron_tagger')\n",
        "sw = stopwords.words('english')\n",
        "m = WordNetLemmatizer()\n"
      ],
      "metadata": {
        "id": "zUb3bi56NyWj",
        "colab": {
          "base_uri": "https://localhost:8080/"
        },
        "outputId": "03193066-2c9e-4276-a2e0-e343c9b79574"
      },
      "execution_count": 28,
      "outputs": [
        {
          "output_type": "stream",
          "name": "stderr",
          "text": [
            "[nltk_data] Downloading package stopwords to /root/nltk_data...\n",
            "[nltk_data]   Package stopwords is already up-to-date!\n",
            "[nltk_data] Downloading package omw-1.4 to /root/nltk_data...\n",
            "[nltk_data]   Package omw-1.4 is already up-to-date!\n",
            "[nltk_data] Downloading package punkt to /root/nltk_data...\n",
            "[nltk_data]   Package punkt is already up-to-date!\n",
            "[nltk_data] Downloading package wordnet to /root/nltk_data...\n",
            "[nltk_data]   Package wordnet is already up-to-date!\n",
            "[nltk_data] Downloading package averaged_perceptron_tagger to\n",
            "[nltk_data]     /root/nltk_data...\n",
            "[nltk_data]   Package averaged_perceptron_tagger is already up-to-\n",
            "[nltk_data]       date!\n"
          ]
        }
      ]
    },
    {
      "cell_type": "code",
      "source": [
        "from fake_useragent import UserAgent\n",
        "fake_me = UserAgent(verify_ssl=False)\n",
        "session = requests.session()"
      ],
      "metadata": {
        "id": "bvuv5U6B3C8t"
      },
      "execution_count": 29,
      "outputs": []
    },
    {
      "cell_type": "code",
      "source": [
        "def parser(url):\n",
        "  req = session.get(url, headers={'User-Agent': fake_me.random})\n",
        "  page = req.text\n",
        "  soup = BeautifulSoup(page, 'html.parser')\n",
        "  return soup"
      ],
      "metadata": {
        "id": "AYRQrlCDJ6VW"
      },
      "execution_count": 30,
      "outputs": []
    },
    {
      "cell_type": "code",
      "source": [
        "url = f'https://www.metacritic.com/browse/movies/genre/userscore/fantasy?view=detailed.html'\n",
        "soup = parser(url)\n",
        "page_num = soup.find_all('ul', {'class': 'pages'})\n",
        "pages_links = re.findall(r'/browse/movies/genre/userscore/fantasy\\?view=detailed\\.html&amp;page=\\d\\d*', str(page_num)) \n",
        "# Теперь у нас есть ссылки на каждую из страниц, хотя мы возьмем только первую и последнюю \n",
        "\n",
        "url_page = 'http://www.metacritic.com/browse/movies/genre/userscore/fantasy?view=detailed.html&%3Bpage=11&page=' + str(len(pages_links)+1)\n",
        "soup = parser(url_page)\n",
        "last_page = soup.find_all('table', {'clamp-list'})\n",
        "\n",
        "reviews = re.findall(r'/movie/\\w+[-\\w]*/user-reviews', str(last_page))\n",
        "rev_links = []\n",
        "for i in range(len(reviews)-1):\n",
        "  if i%2 == 0 and i >= len(reviews)-61:\n",
        "    rev_links.append(reviews[i]) # список ссылок 30 фильмов \n",
        "len(rev_links)"
      ],
      "metadata": {
        "colab": {
          "base_uri": "https://localhost:8080/"
        },
        "id": "FaSSOnII3Do8",
        "outputId": "e50bd2df-b599-461f-89bd-e9ff9ac608a4"
      },
      "execution_count": 31,
      "outputs": [
        {
          "output_type": "execute_result",
          "data": {
            "text/plain": [
              "30"
            ]
          },
          "metadata": {},
          "execution_count": 31
        }
      ]
    },
    {
      "cell_type": "code",
      "source": [
        "def the_texts(texts): # Просто обрабатываем текст отзыва от HTMLевской шолухи\n",
        "  rev_text = texts.find_all('div', {'class': \"review_body\"}) \n",
        "  rev_text = re.sub('\\[<.*>', '', str(rev_text))\n",
        "  rev_text = re.sub('<span>', '', str(rev_text))\n",
        "  rev_text = re.sub('<.*>', '', str(rev_text))\n",
        "  rev_text = re.sub('\\]', '', str(rev_text))\n",
        "  return rev_text"
      ],
      "metadata": {
        "id": "CfBvYyEMV1wW"
      },
      "execution_count": 32,
      "outputs": []
    },
    {
      "cell_type": "code",
      "source": [
        "with open('Bad reviews.txt', 'a') as bad_file:\n",
        "  with open('Good reviews.txt', 'a') as good_file:\n",
        "    for film in rev_links:\n",
        "      url_film = 'https://www.metacritic.com' + str(film) + '?sort-by=most-helpful&num_items=100'\n",
        "      soup = parser(url_film)\n",
        "      pad = soup.find_all('div', {'class': \"review pad_top1\"})\n",
        "      bad = 0\n",
        "      good = 0\n",
        "      for i in range(len(pad)-1):  # Отзывы на один фильм\n",
        "        rev_status = pad[i].find_all('div', {'class': \"metascore_w user large movie negative indiv\"})\n",
        "        if len(rev_status) == 1: # отзыв негативный\n",
        "          if \"      This review contains spoilers.\" not in str(the_texts(pad[i])) and len(str(the_texts(pad[i]))) > 10:\n",
        "            if langid.classify(str(the_texts(pad[i])))[0] =='en':\n",
        "              bad += 1\n",
        "              if bad <=5:\n",
        "                bad_file.write(the_texts(pad[i]))\n",
        "        else:\n",
        "          rev_status = pad[i].find_all('div', {'class': \"metascore_w user large movie positive indiv perfect\"})\n",
        "          rev_status_2 = pad[i].find_all('div', {'class': \"metascore_w user large movie positive indiv\"})\n",
        "          if len(rev_status) == 1 or len(rev_status_2) == 1: # отзыв позитивный\n",
        "            if \"      This review contains spoilers.\" not in str(the_texts(pad[i])) and len(str(the_texts(pad[i]))) > 10:\n",
        "              if langid.classify(str(the_texts(pad[i])))[0] =='en':\n",
        "                good += 1\n",
        "                if good <=5:\n",
        "                  good_file.write(the_texts(pad[i]))"
      ],
      "metadata": {
        "id": "t5FNLCOLSDvE"
      },
      "execution_count": 36,
      "outputs": []
    },
    {
      "cell_type": "markdown",
      "source": [
        "2.   Токенизируйте слова, приведите их к нижнему регистру и к начальной форме (1 балл за токенизацию, 1 - за начальную форму)\n",
        "\n"
      ],
      "metadata": {
        "id": "7wrRt03aOMTj"
      }
    },
    {
      "cell_type": "markdown",
      "source": [
        "# План действий:\n",
        "\n",
        "\n",
        "1.   Имеем на входе два документа\n",
        "2.   Сделаем общую ф-цию для лемматизации и токенизации\n",
        "\n"
      ],
      "metadata": {
        "id": "GVDAf1oDiiTy"
      }
    },
    {
      "cell_type": "code",
      "source": [
        "!pip install nltk"
      ],
      "metadata": {
        "colab": {
          "base_uri": "https://localhost:8080/"
        },
        "id": "S31WJNnVnRME",
        "outputId": "d60e378b-29b6-4dc0-963f-7634874aa574"
      },
      "execution_count": 37,
      "outputs": [
        {
          "output_type": "stream",
          "name": "stdout",
          "text": [
            "Looking in indexes: https://pypi.org/simple, https://us-python.pkg.dev/colab-wheels/public/simple/\n",
            "Requirement already satisfied: nltk in /usr/local/lib/python3.7/dist-packages (3.7)\n",
            "Requirement already satisfied: tqdm in /usr/local/lib/python3.7/dist-packages (from nltk) (4.64.1)\n",
            "Requirement already satisfied: click in /usr/local/lib/python3.7/dist-packages (from nltk) (7.1.2)\n",
            "Requirement already satisfied: regex>=2021.8.3 in /usr/local/lib/python3.7/dist-packages (from nltk) (2022.6.2)\n",
            "Requirement already satisfied: joblib in /usr/local/lib/python3.7/dist-packages (from nltk) (1.1.0)\n"
          ]
        }
      ]
    },
    {
      "cell_type": "code",
      "source": [
        "def tokNlem(text):\n",
        "  lems = []\n",
        "  tocs = [w.lower() for w in word_tokenize(text) if w.isalpha()]\n",
        "  filtered = [w for w in tocs if w not in sw]\n",
        "  for word in filtered:\n",
        "    lems.append(m.lemmatize(word))\n",
        "  return lems\n"
      ],
      "metadata": {
        "id": "tZ_BNLl9jRGh"
      },
      "execution_count": 38,
      "outputs": []
    },
    {
      "cell_type": "code",
      "source": [
        "lem_bad = []\n",
        "lem_good = []\n",
        "with open('Bad reviews.txt') as bad_file:\n",
        "  bad_text = bad_file.read()\n",
        "  bad_lems = tokNlem (bad_text)\n",
        "print(len(bad_lems), bad_lems)\n",
        "\n",
        "with open('Good reviews.txt') as good_file:\n",
        "  good_text = good_file.read()\n",
        "  good_lems = tokNlem (good_text)\n",
        "print(len(good_lems), good_lems)"
      ],
      "metadata": {
        "id": "W69qeeraOTYe",
        "colab": {
          "base_uri": "https://localhost:8080/"
        },
        "outputId": "6145ccb5-8518-4cf3-bec3-e6dfff8a021b"
      },
      "execution_count": 39,
      "outputs": [
        {
          "output_type": "stream",
          "name": "stdout",
          "text": [
            "1236 ['positive', 'nick', 'fury', 'great', 'hope', 'one', 'day', 'get', 'proper', 'shield', 'movie', 'goose', 'cat', 'good', 'boooring', 'lead', 'actor', 'brie', 'larson', 'terrible', 'uncharismatic', 'actually', 'first', 'female', 'superhero', 'marvel', 'would', 'prefer', 'never', 'see', 'watched', 'film', 'morning', 'really', 'regret', 'watching', 'theatre', 'let', 'start', 'good', 'thing', 'first', 'opening', 'action', 'scene', 'really', 'good', 'nick', 'fury', 'good', 'samuel', 'jackson', 'movie', 'nothing', 'good', 'offer', 'sad', 'endgame', 'far', 'one', 'boring', 'marvel', 'movie', 'really', 'bad', 'performance', 'brie', 'larson', 'without', 'emotion', 'feminist', 'propaganda', 'make', 'movie', 'one', 'worst', 'marvel', 'movie', 'ever', 'critic', 'really', 'missed', 'mark', 'one', 'mushu', 'song', 'watered', 'boring', 'mulan', 'sprinkled', 'familiar', 'superhero', 'trope', 'completely', 'joyless', 'remake', 'song', 'character', 'development', 'improvement', 'original', 'save', 'fantasy', 'become', 'boring', 'usual', 'skip', 'live', 'action', 'remake', 'lazy', 'cash', 'grab', 'terrible', 'acting', 'missing', 'joy', 'original', 'there', 'mushu', 'music', 'seems', 'whack', 'cant', 'wrap', 'head', 'around', 'decision', 'take', 'away', 'fan', 'favorite', 'character', 'even', 'made', 'enjoys', 'movie', 'like', 'movie', 'korean', 'partiotism', 'piece', 'crap', 'completely', 'brainless', 'one', 'creative', 'little', 'set', 'piece', 'avoid', 'mean', 'look', 'name', 'dragon', 'breaking', 'crap', 'hour', 'save', 'time', 'amp', 'money', 'probably', 'see', 'thing', 'sat', 'morning', 'kid', 'show', 'actually', 'worst', 'film', 'evr', 'seen', 'dull', 'shocking', 'ending', 'cgi', 'wasnt', 'great', 'waste', 'waste', 'money', 'wow', 'many', 'talented', 'people', 'decide', 'part', 'terrible', 'film', 'kevin', 'spacey', 'jennifer', 'garner', 'barry', 'sonnenfeld', 'must', 'got', 'big', 'pay', 'check', 'f', 'one', 'worst', 'movie', 'year', 'far', 'cast', 'plot', 'logic', 'movie', 'effect', 'cat', 'whole', 'movie', 'waste', 'minute', 'keep', 'away', 'movie', 'kinda', 'wanted', 'see', 'movie', 'like', 'day', 'thought', 'washed', 'unoriginal', 'cliche', 'movie', 'money', 'poor', 'acting', 'correct', 'written', 'ninety', 'known', 'look', 'talking', 'meow', 'going', 'spacey', 'lead', 'roll', 'decided', 'little', 'film', 'known', 'guess', 'found', 'script', 'year', 'later', 'total', 'bore', 'nine', 'life', 'downright', 'awful', 'cliche', 'filled', 'unoriginal', 'mess', 'left', 'youngest', 'kid', 'theater', 'wishing', 'never', 'entered', 'first', 'place', 'crap', 'movie', 'waste', 'money', 'take', 'kid', 'peter', 'rabbit', 'insted', 'major', 'disappointment', 'magic', 'great', 'trailer', 'terrible', 'movie', 'director', 'ava', 'duvernay', 'deliver', 'fact', 'disney', 'put', 'insulting', 'like', 'horribly', 'written', 'movie', 'lame', 'annoying', 'character', 'terrible', 'special', 'effect', 'movie', 'heaven', 'one', 'tope', 'worst', 'movie', 'ever', 'seen', 'entire', 'life', 'aré', 'bad', 'film', 'get', 'laugh', 'film', 'get', 'horrible', 'feel', 'disney', 'give', 'baca', 'money', 'kind', 'garbage', 'spineless', 'critic', 'try', 'make', 'happen', 'srsly', 'get', 'togehter', 'writing', 'anyone', 'see', 'one', 'bit', 'actual', 'comedy', 'lifted', 'original', 'movie', 'nod', 'effect', 'prop', 'even', 'car', 'worse', 'original', 'awful', 'cheesy', 'acting', 'dumb', 'joke', 'cliche', 'horrible', 'written', 'character', 'ghostbusters', 'reboot', 'pas', 'like', 'another', 'failed', 'intent', 'gained', 'fame', 'expense', 'classic', 'franchise', 'movie', 'pandering', 'painful', 'even', 'watch', 'joke', 'funny', 'ghost', 'look', 'awful', 'waste', 'time', 'money', 'watch', 'original', 'halle', 'berry', 'worst', 'carnival', 'z', 'class', 'junk', 'movie', 'party', 'century', 'could', 'movie', 'worse', 'see', 'hale', 'berry', 'tell', 'owes', 'reason', 'give', 'film', 'instead', 'least', 'bad', 'laugh', 'even', 'though', 'painfully', 'cringey', 'lot', 'time', 'current', 'score', 'still', 'high', 'crap', 'pile', 'movie', 'convince', 'gourge', 'eye', 'movie', 'laughable', 'made', 'absolute', 'sense', 'dumb', 'rating', 'mercy', 'watch', 'would', 'even', 'recommend', 'worst', 'enemy', 'obviously', 'disney', 'understood', 'well', 'failure', 'hand', 'avoided', 'brutal', 'disappointment', 'box', 'office', 'kenneth', 'branagh', 'look', 'bad', 'director', 'film', 'dumbest', 'emptiest', 'film', 'ever', 'made', 'ever', 'would', 'walk', 'film', 'given', 'chance', 'even', 'plane', 'read', 'book', 'great', 'book', 'watch', 'terrible', 'film', 'still', 'watch', 'movie', 'god', 'read', 'book', 'really', 'interested', 'terrible', 'movie', 'could', 'bear', 'watch', 'painfull', 'knowing', 'directed', 'kenneth', 'brannagh', 'make', 'even', 'worse', 'waste', 'time', 'really', 'weak', 'implementation', 'disney', 'crime', 'dull', 'murder', 'plot', 'bit', 'thrown', 'seems', 'really', 'dated', 'tv', 'movie', 'quality', 'gave', 'half', 'hour', 'worst', 'film', 'seen', 'year', 'worst', 'one', 'find', 'metacritic', 'thought', 'point', 'like', 'mother', 'immortalized', 'computer', 'ai', 'helped', 'orphan', 'overblown', 'evil', 'record', 'mogul', 'music', 'box', 'office', 'bomb', 'made', 'worldwide', 'million', 'budget', 'good', 'wanted', 'series', 'adopted', 'movie', 'pet', 'semetary', 'ii', 'manages', 'one', 'worst', 'sequel', 'time', 'one', 'unnecessary', 'great', 'fodder', 'late', 'night', 'marathon', 'horrible', 'film', 'little', 'entertainment', 'value', 'series', 'seems', 'dwindled', 'short', 'idea', 'fourth', 'installment', 'plot', 'creative', 'special', 'effect', 'sorely', 'dated', 'entire', 'cast', 'seems', 'uninterested', 'safe', 'say', 'enough', 'enough', 'stupidest', 'sequel', 'ever', 'superman', 'amp', 'favorite', 'entertain', 'third', 'one', 'lame', 'worst', 'one', 'worst', 'bad', 'direction', 'dumb', 'writing', 'stupid', 'message', 'end', 'much', 'trash', 'movie', 'biggest', 'disappointment', 'special', 'effect', 'look', 'cheap', 'also', 'story', 'joke', 'logical', 'mistake', 'unwatchable', 'boring', 'plot', 'boring', 'action', 'cheap', 'effect', 'even', 'compared', 'previous', 'installment', 'who', 'effect', 'time', 'even', 'actor', 'worst', 'compared', 'movie', 'think', 'anyone', 'want', 'watch', 'ever', 'thought', 'superman', 'terrible', 'whole', 'new', 'level', 'took', 'problem', 'third', 'film', 'made', 'ten', 'time', 'worse', 'terrible', 'omg', 'head', 'ache', 'inducing', 'bad', 'even', 'lease', 'bit', 'amusing', 'entertaining', 'nutcracker', 'attempt', 'pull', 'entertain', 'ultimately', 'fails', 'obtuse', 'story', 'lousy', 'character', 'failure', 'film', 'worse', 'movie', 'god', 'possible', 'everything', 'bad', 'direction', 'shoddy', 'nothing', 'flow', 'feel', 'dull', 'dreary', 'unfun', 'much', 'like', 'roger', 'corman', 'film', 'name', 'movie', 'never', 'released', 'want', 'good', 'fantastic', 'four', 'film', 'rent', 'incredibles', 'oh', 'come', 'guy', 'know', 'absolutely', 'hated', 'terminator', 'genisys', 'jurassic', 'world', 'honestly', 'make', 'movie', 'seem', 'like', 'good', 'flick', 'fantastic', 'four', 'even', 'worse', 'batman', 'robin', 'fantastic', 'bore', 'get', 'f', 'okay', 'got', 'great', 'director', 'great', 'cast', 'awesome', 'superhero', 'team', 'awesome', 'right', 'hell', 'happened', 'biggest', 'cinematic', 'abortion', 'seen', 'year', 'srl', 'bad', 'movie', 'poor', 'plot', 'poor', 'character', 'pathetic', 'villain', 'waste', 'time', 'important', 'thing', 'movie', 'f', 'g', 'booooring', 'point', 'awful', 'lego', 'movie', 'ripoff', 'bad', 'see', 'give', 'money', 'nothing', 'junk', 'wanting', 'copy', 'lego', 'movie', 'one', 'worst', 'movie', 'year', 'worst', 'movie', 'year', 'brightburn', 'maybe', 'worst', 'animated', 'movie', 'decade', 'next', 'emoji', 'guess', 'cant', 'expect', 'anything', 'le', 'night', 'shayamalan', 'who', 'movie', 'continue', 'get', 'even', 'worse', 'carreer', 'move', 'along', 'dont', 'think', 'quit', 'movie', 'biz', 'think', 'stop', 'writting', 'directing', 'movie', 'peroid', 'like', 'watching', 'series', 'nickelodeon', 'movie', 'boring', 'know', 'long', 'felt', 'like', 'hope', 'make', 'sequel', 'better', 'first', 'one', 'hire', 'people', 'give', 'movie', 'score', 'thought', 'dragonball', 'evolution', 'brutal', 'actually', 'bad', 'compared', 'po', 'get', 'cramming', 'entire', 'season', 'worth', 'story', 'film', 'even', 'hour', 'long', 'plot', 'terrible', 'acting', 'pathetic', 'special', 'effect', 'weak', 'easily', 'one', 'top', 'worst', 'film', 'time', 'really', 'depressing', 'something', 'like', 'could', 'come', 'enjoyable', 'source', 'material', 'good', 'intent', 'save', 'time', 'watch', 'like', 'watching', 'cartoon', 'movie', 'sucked', 'soooooo', 'bad', 'guy', 'need', 'put', 'thing', 'like', 'cartoon', 'disappointed', 'fan', 'dbz', 'better', 'step', 'make', 'next', 'dbz', 'movie', 'better', 'approve', 'license', 'able', 'use', 'character', 'name', 'likeness', 'mean', 'label', 'dragonball', 'baby', 'brother', 'could', 'come', 'better', 'adaptation', 'one', 'worst', 'movie', 'ever', 'seen', 'like', 'cartoon', 'comic', 'thing', 'good', 'stay', 'away', 'ever', 'make', 'one', 'piece', 'film', 'based', 'anime', 'hand', 'smack', 'every', 'producer', 'ever', 'thought', 'good', 'idea', 'movie', 'worth', 'trouble', 'paying', 'one', 'worst', 'movie', 'ive', 'watched', 'character', 'arent', 'manga', 'anime', 'plot', 'blow', 'ending', 'one', 'worst', 'budget', 'must', 'dollar', 'special', 'effect', 'soem', 'worst', 'recasting', 'white', 'fairy', 'godmother', 'black', 'woman', 'racist', 'thing', 'ever', 'fragile', 'petty', 'snowflake', 'get', 'butthurt', 'increased', 'representation', 'knew', 'movie', 'bad', 'going', 'straight', 'streaming', 'stop', 'stop', 'remaking', 'old', 'animated', 'movie', 'live', 'action', 'creatively', 'bankrupt', 'hack', 'make', 'original', 'content', 'ffs', 'disney', 'done', 'black', 'non', 'binary', 'fairy', 'plz', 'stop', 'fix', 'broken', 'want', 'create', 'new', 'work', 'create', 'new', 'work', 'dont', 'touch', 'orignal', 'material', 'unsub', 'even', 'robert', 'zemeckis', 'enough', 'save', 'disney', 'souless', 'cashgrab', 'know', 'people', 'complain', 'wave', 'drown', 'actor', 'speech', 'perfect', 'time', 'get', 'paper', 'towel', 'clean', 'blood', 'spewing', 'eye', 'ear', 'horrific', 'offensive', 'perhaps', 'film', 'ever', 'made', 'horrific', 'gone', 'mad', 'worst', 'movie', 'ever', 'seen', 'worst', 'movie', 'time', 'doubt', 'film', 'simply', 'disgusting', 'filmed', 'film', 'called', 'propaganda', 'liberalism', 'already', 'enough', 'everywhere', 'tired', 'hollow', 'hollywood', 'agenda', 'fuelled', 'film', 'would', 'hilarious', 'offensive', 'star', 'even', 'wanted', 'sequel', 'plot', 'acting', 'bad', 'ever', 'annoying', 'movie', 'sequel', 'anyone', 'like', 'movie', 'worried', 'really', 'looking', 'forward', 'renting', 'netflix', 'since', 'heard', 'horror', 'film', 'equivalent', 'ala', 'bad', 'bad', 'good', 'variety', 'really', 'really', 'bad', 'uwe', 'boll', 'making', 'game', 'look', 'bad', 'critic', 'know', 'game', 'uwe', 'boll', 'get', 'hand', 'game', 'could', 'actually', 'make', 'great', 'movie', 'would', 'like', 'caliber', 'shot', 'face', 'gaming', 'world', 'think', 'could', 'make', 'better', 'movie', 'camera', 'terrible', 'every', 'way', 'would', 'never', 'make', 'anyone', 'watch', 'movie', 'overall', 'would', 'say', 'see', 'copy', 'anywhere', 'honestly', 'question', 'whay', 'action', 'film', 'game', 'slow', 'paced', 'horror', 'abortion', 'movie', 'nothing', 'likable', 'nothing', 'charming', 'nothing', 'decent', 'nothing', 'funny', 'nothing', 'engaging', 'nothing', 'fun', 'two', 'word', 'existence', 'adequately', 'describe', 'movie', 'big', 'yikes']\n",
            "642 ['good', 'movie', 'must', 'watch', 'movie', 'good', 'watch', 'family', 'girlfriend', 'loved', 'experience', 'photo', 'actor', 'script', 'soundtrack', 'well', 'balanced', 'simply', 'beautiful', 'watch', 'movie', 'many', 'time', 'movie', 'obviously', 'lame', 'nerdy', 'completly', 'stupid', 'look', 'name', 'dragon', 'war', 'would', 'anyone', 'gave', 'movie', 'bad', 'rating', 'even', 'go', 'see', 'movie', 'give', 'bad', 'rating', 'nerdy', 'awesome', 'movie', 'film', 'seriously', 'best', 'film', 'ive', 'ever', 'seen', 'try', 'watching', 'upside', 'lollypop', 'nose', 'probably', 'look', 'sane', 'movie', 'ever', 'extremely', 'stupid', 'still', 'great', 'fun', 'movie', 'amazing', 'go', 'see', 'pretty', 'corny', 'awful', 'dialogue', 'great', 'special', 'effect', 'plenty', 'giant', 'monster', 'action', 'lot', 'fun', 'great', 'movie', 'mean', 'good', 'time', 'sure', 'movie', 'might', 'best', 'movie', 'seriously', 'people', 'movie', 'great', 'character', 'plot', 'storyline', 'pro', 'overwhelmingly', 'surpass', 'con', 'must', 'disrepec', 'fav', 'movie', 'dont', 'phat', 'boiiii', 'know', 'desrespec', 'need', 'milk', 'visually', 'stunning', 'follows', 'different', 'format', 'typical', 'save', 'cat', 'film', 'would', 'great', 'diverse', 'cast', 'great', 'message', 'child', 'adult', 'alike', 'fresh', 'narrative', 'inspiring', 'gentle', 'seen', 'wrinkle', 'time', 'sweet', 'sentimental', 'emotionally', 'enchanting', 'visually', 'appealing', 'goodgoodgoodgoodgoodgoodgoodgoodgoodgoodgoodgoodgoodgoodgoodgoodgoodgoodgoodgood', 'film', 'amazing', 'halle', 'berry', 'perfect', 'catwoman', 'action', 'scene', 'show', 'adrenaline', 'favourite', 'version', 'catwoman', 'better', 'dc', 'version', 'understand', 'everyone', 'rating', 'movie', 'bad', 'lighten', 'people', 'movie', 'great', 'fun', 'totally', 'unique', 'take', 'catwoman', 'myth', 'agree', 'term', 'guilty', 'pleasure', 'probably', 'one', 'movie', 'feel', 'confortable', 'using', 'despite', 'people', 'say', 'thought', 'movie', 'pretty', 'decent', 'action', 'ok', 'story', 'hot', 'disappointed', 'movie', 'disappointed', 'reviewer', 'comparing', 'book', 'instead', 'actually', 'reviewing', 'movie', 'duh', 'plot', 'great', 'context', 'superb', 'cgi', 'inspiring', 'loved', 'opinion', 'know', 'lot', 'people', 'hated', 'liked', 'judge', 'excellent', 'film', 'idea', 'matrix', 'inception', 'reality', 'simulated', 'world', 'really', 'liked', 'film', 'also', 'setting', 'excellent', 'well', 'done', 'really', 'engaging', 'revisiting', 'pop', 'rock', 'quest', 'multiracial', 'group', 'adopted', 'sister', 'suburban', 'california', 'chu', 'made', 'stylish', 'musical', 'fantasy', 'youtube', 'generation', 'revisiting', 'pop', 'rock', 'quest', 'multiracial', 'group', 'adopted', 'sister', 'suburban', 'california', 'chu', 'made', 'stylish', 'musical', 'fantasy', 'youtube', 'generation', 'revisiting', 'pop', 'rock', 'quest', 'multiracial', 'group', 'adopted', 'sister', 'suburban', 'california', 'chu', 'made', 'stylish', 'musical', 'fantasy', 'youtube', 'generation', 'revisiting', 'pop', 'rock', 'quest', 'multiracial', 'group', 'adopted', 'sister', 'suburban', 'california', 'chu', 'made', 'stylish', 'musical', 'fantasy', 'youtube', 'generation', 'stunning', 'never', 'seen', 'anything', 'like', 'better', 'movie', 'coming', 'day', 'probably', 'favoritest', 'movie', 'ever', 'entire', 'universe', 'good', 'film', 'even', 'middle', 'quality', 'get', 'deserve', 'bad', 'opinion', 'besides', 'better', 'two', 'first', 'movie', 'good', 'film', 'gave', 'extra', 'point', 'body', 'horror', 'scene', 'waiting', 'dvd', 'hope', 'give', 'u', 'director', 'cut', 'extended', 'edition', 'effect', 'great', 'action', 'movie', 'really', 'great', 'chemistry', 'actor', 'understand', 'lot', 'people', 'expected', 'action', 'whole', 'time', 'story', 'good', 'showed', 'backstory', 'grew', 'team', 'complaint', 'final', 'fight', 'short', 'good', 'best', 'movie', 'general', 'still', 'best', 'fantastic', 'four', 'movie', 'enjoyed', 'movie', 'despite', 'everyone', 'else', 'saying', 'film', 'might', 'best', 'movie', 'ever', 'hit', 'screen', 'take', 'movie', 'day', 'week', 'sparkling', 'vampire', 'decent', 'stilted', 'acting', 'towards', 'beginning', 'overall', 'good', 'especially', 'must', 'say', 'liked', 'much', 'movie', 'good', 'way', 'evoked', 'memory', 'original', 'dragon', 'ball', 'dbz', 'loved', 'memory', 'movie', 'average', 'best', 'dragonball', 'movie', 'ever', 'pleasure', 'watching', 'truely', 'awesome', 'movie', 'enjoyable', 'found', 'watching', 'multiple', 'time', 'something', 'ca', 'say', 'movie', 'good', 'also', 'though', 'would', 'worse', 'huge', 'fan', 'anime', 'movie', 'totally', 'justice', 'bring', 'interesting', 'twist', 'story', 'hope', 'continue', 'final', 'saga', 'great', 'start', 'series', 'there', 'sequel', 'let', 'james', 'wong', 'direct', 'make', 'lot', 'longer', 'solid', 'movie', 'great', 'obviously', 'interesting', 'see', 'character', 'seems', 'like', 'fan', 'series', 'looking', 'reason', 'hate', 'movie', 'series', 'liked', 'original', 'child', 'like', 'one', 'bit', 'scary', 'young', 'kid', 'nothing', 'offensively', 'bad', 'review', 'make', 'well', 'made', 'common', 'sense', 'moral', 'lesson', 'original', 'story', 'family', 'friendly', 'excellent', 'production', 'quality', 'disney', 'like', 'nobody', 'else', 'vfx', 'sure', 'amazing', 'majority', 'film', 'vfx', 'bit', 'obvious', 'ruin', 'movie', 'tom', 'hank', 'even', 'seen', 'movie', 'yet', 'heard', 'woke', 'sure', 'amazing', 'upgrade', 'original', 'disney', 'movie', 'well', 'informative', 'unique', 'respect', 'possibility', 'little', 'better', 'honestly', 'know', 'everyone', 'rated', 'movie', 'bad', 'enjoyed', 'beginning', 'end', 'dont', 'get', 'wrong', 'movie', 'terrible', 'make', 'laugh', 'much', 'give', 'bad', 'score', 'bad', 'thing', 'movie', 'dont', 'like', 'tara', 'reid', 'painfully', 'bad', 'acting', 'everything', 'else', 'hilarious', 'movie', 'get', 'nice', 'mix', 'action', 'adventure', 'horror', 'good', 'sequel', 'game', 'good', 'performance', 'christian', 'slater', 'bad', 'comment', 'movie', 'seem', 'realize', 'know', 'old', 'atari', 'game', 'bad', 'plot', 'bad', 'plot', 'scream', 'watched', 'back', 'kinda', 'grow', 'weird', 'way', 'think', 'way', 'never', 'seen', 'anything', 'like', 'good', 'bad', 'know']\n"
          ]
        }
      ]
    },
    {
      "cell_type": "markdown",
      "source": [
        "\n",
        "\n",
        "3.   Составьте 2 множества - в одном будут слова, которые встречаются только в положительных отзывах, а в другом - встречающиеся только в отрицательных. Попробуйте поиграть с частотностями и исключить шум (к примеру, выбросить слова, встречающиеся 1-2 раза) (2 балла) (если у вас получились пустые множества, уберите фильтр по частотности или увеличьте выборку)\n",
        "\n",
        "\n",
        "\n"
      ],
      "metadata": {
        "id": "Aoorn9--OT23"
      }
    },
    {
      "cell_type": "markdown",
      "source": [
        "# План действий:\n",
        "\n",
        "\n",
        "1. Идем по словам одного списка и ищем каждое (find-ом) в другом, если его нет, добавляем слово в словарь, если оно там уже есть, увеличиваем на единицу значение\n",
        "2. То же самое делаем в обратную сторону\n",
        "\n"
      ],
      "metadata": {
        "id": "sKJz9lkYg7LD"
      }
    },
    {
      "cell_type": "code",
      "source": [
        "good_dct = {}\n",
        "bad_dct = {}\n",
        "for word in bad_lems:\n",
        "  if word not in good_lems:\n",
        "    if word not in bad_dct:\n",
        "      bad_dct[word] = 1\n",
        "    else:\n",
        "      bad_dct[word] = bad_dct[word] + 1\n",
        "\n",
        "for word in good_lems:\n",
        "  if word not in bad_lems:\n",
        "    if word not in good_dct:\n",
        "      good_dct[word] = 1\n",
        "    else:\n",
        "      good_dct[word] = good_dct[word] + 1\n",
        "  \n",
        "print(good_dct)\n",
        "print(bad_dct)\n",
        "\n",
        "\n"
      ],
      "metadata": {
        "id": "z3xzG_4LOnQR",
        "colab": {
          "base_uri": "https://localhost:8080/"
        },
        "outputId": "c37b577b-dea8-44d2-c45b-7b2ebcf34794"
      },
      "execution_count": 40,
      "outputs": [
        {
          "output_type": "stream",
          "name": "stdout",
          "text": [
            "{'family': 2, 'girlfriend': 1, 'loved': 3, 'experience': 1, 'photo': 1, 'soundtrack': 1, 'balanced': 1, 'beautiful': 1, 'nerdy': 2, 'completly': 1, 'war': 1, 'go': 2, 'seriously': 2, 'best': 6, 'upside': 1, 'lollypop': 1, 'nose': 1, 'sane': 1, 'extremely': 1, 'amazing': 4, 'pretty': 2, 'corny': 1, 'dialogue': 1, 'plenty': 1, 'giant': 1, 'monster': 1, 'sure': 3, 'might': 2, 'storyline': 1, 'pro': 1, 'overwhelmingly': 1, 'surpass': 1, 'con': 1, 'disrepec': 1, 'fav': 1, 'phat': 1, 'boiiii': 1, 'desrespec': 1, 'milk': 1, 'visually': 2, 'stunning': 2, 'follows': 1, 'different': 1, 'format': 1, 'typical': 1, 'diverse': 1, 'child': 2, 'adult': 1, 'alike': 1, 'fresh': 1, 'narrative': 1, 'inspiring': 2, 'gentle': 1, 'wrinkle': 1, 'sweet': 1, 'sentimental': 1, 'emotionally': 1, 'enchanting': 1, 'appealing': 1, 'goodgoodgoodgoodgoodgoodgoodgoodgoodgoodgoodgoodgoodgoodgoodgoodgoodgoodgoodgood': 1, 'catwoman': 3, 'adrenaline': 1, 'favourite': 1, 'version': 2, 'dc': 1, 'understand': 2, 'everyone': 3, 'lighten': 1, 'totally': 2, 'unique': 2, 'myth': 1, 'agree': 1, 'term': 1, 'guilty': 1, 'pleasure': 2, 'confortable': 1, 'using': 1, 'despite': 2, 'ok': 1, 'hot': 1, 'reviewer': 1, 'comparing': 1, 'reviewing': 1, 'duh': 1, 'context': 1, 'superb': 1, 'opinion': 2, 'liked': 4, 'judge': 1, 'excellent': 3, 'matrix': 1, 'inception': 1, 'reality': 1, 'simulated': 1, 'setting': 1, 'revisiting': 4, 'pop': 4, 'rock': 4, 'quest': 4, 'multiracial': 4, 'group': 4, 'sister': 4, 'suburban': 4, 'california': 4, 'chu': 4, 'stylish': 4, 'musical': 4, 'youtube': 4, 'generation': 4, 'coming': 1, 'favoritest': 1, 'universe': 1, 'middle': 1, 'deserve': 1, 'besides': 1, 'extra': 1, 'body': 1, 'waiting': 1, 'dvd': 1, 'u': 1, 'cut': 1, 'extended': 1, 'edition': 1, 'chemistry': 1, 'expected': 1, 'showed': 1, 'backstory': 1, 'grew': 1, 'complaint': 1, 'final': 2, 'fight': 1, 'general': 1, 'enjoyed': 2, 'else': 3, 'saying': 1, 'hit': 1, 'screen': 1, 'week': 1, 'sparkling': 1, 'vampire': 1, 'stilted': 1, 'towards': 1, 'beginning': 2, 'especially': 1, 'evoked': 1, 'memory': 2, 'ball': 1, 'average': 1, 'truely': 1, 'multiple': 1, 'ca': 1, 'huge': 1, 'justice': 1, 'bring': 1, 'interesting': 2, 'twist': 1, 'saga': 1, 'james': 1, 'wong': 1, 'direct': 1, 'longer': 1, 'solid': 1, 'hate': 1, 'scary': 1, 'young': 1, 'offensively': 1, 'review': 1, 'common': 1, 'moral': 1, 'lesson': 1, 'friendly': 1, 'production': 1, 'nobody': 1, 'vfx': 2, 'majority': 1, 'obvious': 1, 'ruin': 1, 'tom': 1, 'hank': 1, 'yet': 1, 'woke': 1, 'upgrade': 1, 'informative': 1, 'respect': 1, 'possibility': 1, 'rated': 1, 'wrong': 1, 'tara': 1, 'reid': 1, 'nice': 1, 'mix': 1, 'adventure': 1, 'christian': 1, 'slater': 1, 'comment': 1, 'realize': 1, 'atari': 1, 'scream': 1, 'back': 1, 'grow': 1, 'weird': 1}\n",
            "{'positive': 1, 'nick': 2, 'fury': 2, 'proper': 1, 'shield': 1, 'goose': 1, 'boooring': 1, 'lead': 2, 'brie': 2, 'larson': 2, 'uncharismatic': 1, 'female': 1, 'superhero': 3, 'marvel': 3, 'prefer': 1, 'morning': 2, 'regret': 1, 'theatre': 1, 'opening': 1, 'samuel': 1, 'jackson': 1, 'offer': 1, 'sad': 1, 'endgame': 1, 'far': 2, 'boring': 6, 'without': 1, 'emotion': 1, 'feminist': 1, 'propaganda': 2, 'worst': 22, 'critic': 3, 'missed': 1, 'mark': 1, 'mushu': 2, 'song': 2, 'watered': 1, 'mulan': 1, 'sprinkled': 1, 'familiar': 1, 'trope': 1, 'completely': 2, 'joyless': 1, 'remake': 2, 'development': 1, 'improvement': 1, 'become': 1, 'usual': 1, 'skip': 1, 'live': 2, 'lazy': 1, 'cash': 1, 'grab': 1, 'missing': 1, 'joy': 1, 'music': 2, 'whack': 1, 'cant': 2, 'wrap': 1, 'head': 2, 'around': 1, 'decision': 1, 'away': 3, 'favorite': 2, 'enjoys': 1, 'korean': 1, 'partiotism': 1, 'piece': 3, 'crap': 4, 'brainless': 1, 'creative': 2, 'set': 1, 'avoid': 1, 'breaking': 1, 'hour': 3, 'amp': 2, 'money': 7, 'sat': 1, 'evr': 1, 'dull': 3, 'shocking': 1, 'ending': 2, 'wasnt': 1, 'waste': 7, 'wow': 1, 'talented': 1, 'decide': 1, 'part': 1, 'kevin': 1, 'spacey': 2, 'jennifer': 1, 'garner': 1, 'barry': 1, 'sonnenfeld': 1, 'got': 2, 'big': 2, 'pay': 1, 'check': 1, 'f': 3, 'year': 6, 'logic': 1, 'minute': 1, 'keep': 1, 'wanted': 3, 'washed': 1, 'unoriginal': 2, 'cliche': 3, 'poor': 3, 'correct': 1, 'written': 3, 'ninety': 1, 'known': 2, 'talking': 1, 'meow': 1, 'going': 2, 'roll': 1, 'decided': 1, 'guess': 2, 'later': 1, 'total': 1, 'bore': 2, 'nine': 1, 'life': 2, 'downright': 1, 'filled': 1, 'mess': 1, 'left': 1, 'youngest': 1, 'theater': 1, 'wishing': 1, 'entered': 1, 'place': 1, 'peter': 1, 'rabbit': 1, 'insted': 1, 'major': 1, 'disappointment': 3, 'magic': 1, 'trailer': 1, 'ava': 1, 'duvernay': 1, 'deliver': 1, 'fact': 1, 'put': 2, 'insulting': 1, 'horribly': 1, 'annoying': 2, 'heaven': 1, 'tope': 1, 'aré': 1, 'horrible': 3, 'baca': 1, 'kind': 1, 'garbage': 1, 'spineless': 1, 'happen': 1, 'srsly': 1, 'togehter': 1, 'writing': 2, 'actual': 1, 'comedy': 1, 'lifted': 1, 'nod': 1, 'prop': 1, 'car': 1, 'cheesy': 1, 'dumb': 3, 'joke': 3, 'ghostbusters': 1, 'reboot': 1, 'pas': 1, 'another': 1, 'failed': 1, 'intent': 2, 'gained': 1, 'fame': 1, 'expense': 1, 'classic': 1, 'franchise': 1, 'pandering': 1, 'painful': 1, 'funny': 2, 'ghost': 1, 'carnival': 1, 'z': 1, 'class': 1, 'junk': 2, 'party': 1, 'century': 1, 'could': 6, 'hale': 1, 'tell': 1, 'owes': 1, 'least': 1, 'cringey': 1, 'current': 1, 'high': 1, 'pile': 1, 'convince': 1, 'gourge': 1, 'eye': 2, 'laughable': 1, 'absolute': 1, 'mercy': 1, 'recommend': 1, 'enemy': 1, 'understood': 1, 'failure': 2, 'hand': 3, 'avoided': 1, 'brutal': 2, 'box': 2, 'office': 2, 'kenneth': 2, 'branagh': 1, 'dumbest': 1, 'emptiest': 1, 'walk': 1, 'given': 1, 'chance': 1, 'plane': 1, 'read': 2, 'god': 2, 'interested': 1, 'bear': 1, 'painfull': 1, 'knowing': 1, 'directed': 1, 'brannagh': 1, 'weak': 2, 'implementation': 1, 'crime': 1, 'murder': 1, 'thrown': 1, 'dated': 2, 'tv': 1, 'half': 1, 'find': 1, 'metacritic': 1, 'mother': 1, 'immortalized': 1, 'computer': 1, 'ai': 1, 'helped': 1, 'orphan': 1, 'overblown': 1, 'evil': 1, 'record': 1, 'mogul': 1, 'bomb': 1, 'worldwide': 1, 'million': 1, 'budget': 2, 'pet': 1, 'semetary': 1, 'ii': 1, 'manages': 1, 'unnecessary': 1, 'fodder': 1, 'late': 1, 'night': 2, 'marathon': 1, 'entertainment': 1, 'value': 1, 'dwindled': 1, 'fourth': 1, 'installment': 2, 'sorely': 1, 'uninterested': 1, 'safe': 1, 'enough': 4, 'stupidest': 1, 'superman': 2, 'entertain': 2, 'third': 2, 'direction': 2, 'trash': 1, 'biggest': 2, 'cheap': 2, 'logical': 1, 'mistake': 1, 'unwatchable': 1, 'compared': 3, 'previous': 1, 'who': 2, 'want': 3, 'new': 3, 'level': 1, 'took': 1, 'problem': 1, 'ten': 1, 'omg': 1, 'ache': 1, 'inducing': 1, 'lease': 1, 'amusing': 1, 'entertaining': 1, 'nutcracker': 1, 'attempt': 1, 'pull': 1, 'ultimately': 1, 'fails': 1, 'obtuse': 1, 'lousy': 1, 'possible': 1, 'shoddy': 1, 'flow': 1, 'dreary': 1, 'unfun': 1, 'roger': 1, 'corman': 1, 'released': 1, 'rent': 1, 'incredibles': 1, 'oh': 1, 'come': 3, 'guy': 2, 'absolutely': 1, 'terminator': 1, 'genisys': 1, 'jurassic': 1, 'flick': 1, 'batman': 1, 'robin': 1, 'okay': 1, 'right': 1, 'hell': 1, 'happened': 1, 'cinematic': 1, 'abortion': 2, 'srl': 1, 'pathetic': 2, 'villain': 1, 'important': 1, 'g': 1, 'booooring': 1, 'lego': 2, 'ripoff': 1, 'wanting': 1, 'copy': 2, 'brightburn': 1, 'maybe': 1, 'animated': 2, 'decade': 1, 'next': 2, 'emoji': 1, 'expect': 1, 'le': 1, 'shayamalan': 1, 'carreer': 1, 'move': 1, 'along': 1, 'quit': 1, 'biz': 1, 'stop': 4, 'writting': 1, 'directing': 1, 'peroid': 1, 'nickelodeon': 1, 'long': 2, 'felt': 1, 'hire': 1, 'evolution': 1, 'po': 1, 'cramming': 1, 'season': 1, 'worth': 2, 'easily': 1, 'top': 1, 'depressing': 1, 'source': 1, 'material': 2, 'cartoon': 3, 'sucked': 1, 'soooooo': 1, 'step': 1, 'approve': 1, 'license': 1, 'able': 1, 'use': 1, 'likeness': 1, 'label': 1, 'baby': 1, 'brother': 1, 'adaptation': 1, 'comic': 1, 'stay': 1, 'based': 1, 'smack': 1, 'every': 2, 'producer': 1, 'trouble': 1, 'paying': 1, 'arent': 1, 'manga': 1, 'blow': 1, 'dollar': 1, 'soem': 1, 'recasting': 1, 'white': 1, 'fairy': 2, 'godmother': 1, 'black': 2, 'woman': 1, 'racist': 1, 'fragile': 1, 'petty': 1, 'snowflake': 1, 'butthurt': 1, 'increased': 1, 'representation': 1, 'knew': 1, 'straight': 1, 'streaming': 1, 'remaking': 1, 'creatively': 1, 'bankrupt': 1, 'hack': 1, 'content': 1, 'ffs': 1, 'non': 1, 'binary': 1, 'plz': 1, 'fix': 1, 'broken': 1, 'create': 2, 'work': 2, 'touch': 1, 'orignal': 1, 'unsub': 1, 'robert': 1, 'zemeckis': 1, 'souless': 1, 'cashgrab': 1, 'complain': 1, 'wave': 1, 'drown': 1, 'speech': 1, 'paper': 1, 'towel': 1, 'clean': 1, 'blood': 1, 'spewing': 1, 'ear': 1, 'horrific': 2, 'offensive': 2, 'perhaps': 1, 'gone': 1, 'mad': 1, 'doubt': 1, 'disgusting': 1, 'filmed': 1, 'called': 1, 'liberalism': 1, 'already': 1, 'everywhere': 1, 'tired': 1, 'hollow': 1, 'hollywood': 1, 'agenda': 1, 'fuelled': 1, 'star': 1, 'worried': 1, 'forward': 1, 'renting': 1, 'netflix': 1, 'since': 1, 'equivalent': 1, 'ala': 1, 'variety': 1, 'uwe': 2, 'boll': 2, 'making': 1, 'caliber': 1, 'shot': 1, 'face': 1, 'gaming': 1, 'camera': 1, 'anywhere': 1, 'question': 1, 'whay': 1, 'slow': 1, 'paced': 1, 'likable': 1, 'charming': 1, 'word': 1, 'existence': 1, 'adequately': 1, 'describe': 1, 'yikes': 1}\n"
          ]
        }
      ]
    },
    {
      "cell_type": "markdown",
      "source": [
        "4. Создайте функцию, которая будет определять, положительный ли отзыв или отрицательный в зависимости от того, какие слова встретились в нём, и посчитайте качество при помощи accuracy (1 - за коректно работающую функцию, 1 - за подсчёт accuracy)"
      ],
      "metadata": {
        "id": "yHZNmHmnOnlZ"
      }
    },
    {
      "cell_type": "markdown",
      "source": [
        "# План действий:\n",
        "\n",
        "\n",
        "1.   Токенизируем входной файл, приводим слова к начальной форме\n",
        "2.   Идем по словам в получившемся списке и проверяем их наличие в двух списках\n",
        "\n",
        "\n",
        "*   Если слово есть в одном из списков, добавляем что-то к общему score (Можно прибавлять в случае, если слово из + списка, и вычитать, если из -)\n",
        "*   \n",
        "\n",
        "\n"
      ],
      "metadata": {
        "id": "92YWZ-GHjcnI"
      }
    },
    {
      "cell_type": "code",
      "source": [
        "\n",
        "def pos_neg(dct, lst):\n",
        "  score = 0\n",
        "  for word in lst:\n",
        "    if word in dct:\n",
        "      if dct[word] < 3:\n",
        "        score += 1\n",
        "      elif dct[word] <5 and dct[word] > 2:\n",
        "        score += 2 \n",
        "      elif dct[word] > 4:\n",
        "        score += 3 \n",
        "  return score "
      ],
      "metadata": {
        "id": "lWvHE_F-Os-j"
      },
      "execution_count": 75,
      "outputs": []
    },
    {
      "cell_type": "code",
      "source": [
        "!pip install sklearn"
      ],
      "metadata": {
        "colab": {
          "base_uri": "https://localhost:8080/"
        },
        "id": "s0xOF-hnuskN",
        "outputId": "3a9b7ffa-cadd-4fcf-955a-48c1ad33e76f"
      },
      "execution_count": 44,
      "outputs": [
        {
          "output_type": "stream",
          "name": "stdout",
          "text": [
            "Looking in indexes: https://pypi.org/simple, https://us-python.pkg.dev/colab-wheels/public/simple/\n",
            "Collecting sklearn\n",
            "  Downloading sklearn-0.0.tar.gz (1.1 kB)\n",
            "Requirement already satisfied: scikit-learn in /usr/local/lib/python3.7/dist-packages (from sklearn) (1.0.2)\n",
            "Requirement already satisfied: joblib>=0.11 in /usr/local/lib/python3.7/dist-packages (from scikit-learn->sklearn) (1.1.0)\n",
            "Requirement already satisfied: threadpoolctl>=2.0.0 in /usr/local/lib/python3.7/dist-packages (from scikit-learn->sklearn) (3.1.0)\n",
            "Requirement already satisfied: numpy>=1.14.6 in /usr/local/lib/python3.7/dist-packages (from scikit-learn->sklearn) (1.21.6)\n",
            "Requirement already satisfied: scipy>=1.1.0 in /usr/local/lib/python3.7/dist-packages (from scikit-learn->sklearn) (1.7.3)\n",
            "Building wheels for collected packages: sklearn\n",
            "  Building wheel for sklearn (setup.py) ... \u001b[?25l\u001b[?25hdone\n",
            "  Created wheel for sklearn: filename=sklearn-0.0-py2.py3-none-any.whl size=1310 sha256=3012137bba99312ca6c141a412883b8d9416ed0fde50848578f83481b3dd8100\n",
            "  Stored in directory: /root/.cache/pip/wheels/46/ef/c3/157e41f5ee1372d1be90b09f74f82b10e391eaacca8f22d33e\n",
            "Successfully built sklearn\n",
            "Installing collected packages: sklearn\n",
            "Successfully installed sklearn-0.0\n"
          ]
        }
      ]
    },
    {
      "cell_type": "code",
      "source": [
        "from sklearn.metrics import accuracy_score\n",
        "gold = ['pos', 'pos', 'pos', 'pos', 'pos', 'neg', 'neg', 'neg', 'neg', 'neg']\n",
        "result = ''\n",
        "results = []"
      ],
      "metadata": {
        "id": "QiZi3CQ9uwHX"
      },
      "execution_count": 81,
      "outputs": []
    },
    {
      "cell_type": "code",
      "source": [
        "with open ('Good examples.txt') as file:\n",
        "  for line in file:\n",
        "    good_exm = line\n",
        "    gex_lems = tokNlem (good_exm)\n",
        "    pos_score = pos_neg(good_dct, gex_lems)\n",
        "    neg_score = pos_neg(bad_dct, gex_lems)\n",
        "    if pos_score > neg_score:\n",
        "      result = 'pos'\n",
        "    if pos_score < neg_score:\n",
        "      result = 'neg'\n",
        "    else:\n",
        "      result = 'neu'\n",
        "    print(result, good_exm)\n",
        "    if result == 'neu' or result == 'neg' or result == 'pos':\n",
        "      print(result, good_exm)\n",
        "      results.append(result)\n",
        "with open ('Bad examples.txt') as file:\n",
        "  for line in file:\n",
        "    bad_exm = line\n",
        "    bex_lems = tokNlem (bad_exm)\n",
        "    pos_score = pos_neg(good_dct, bex_lems)\n",
        "    neg_score = pos_neg(bad_dct, bex_lems)\n",
        "    if pos_score > neg_score:\n",
        "      result = 'pos'\n",
        "    if pos_score < neg_score:\n",
        "      result = 'neg'\n",
        "    else:\n",
        "      result = 'neu'\n",
        "    if result == 'neu' or result == 'neg' or result == 'pos':\n",
        "      print(result, bad_exm)\n",
        "      results.append(result)\n",
        "    \n",
        "print(\"Accuracy: %.4f\" % accuracy_score(results, gold))\n",
        "\n"
      ],
      "metadata": {
        "id": "GlPZrN6zvp-B",
        "colab": {
          "base_uri": "https://localhost:8080/"
        },
        "outputId": "99e89557-e054-4679-b1ff-25137483a973"
      },
      "execution_count": 82,
      "outputs": [
        {
          "output_type": "stream",
          "name": "stdout",
          "text": [
            "neg It's surprising when you find one of these rare epics that still manage to captivate and spellbind over such a long period of time. The visuals were absolutely majestic, yet the story managed to unfold with such grace and never dawdled. The actors proved worthy of the role they played and kept up their spirit throughout. It was also nice to feel a little light-heartedness among the fantasy, drama and suspense that occurred. To be honest, I couldn't really point out what was actually bad about it, because it just looks like one of the best fantasy epics ever made.\n",
            "\n",
            "neg It's surprising when you find one of these rare epics that still manage to captivate and spellbind over such a long period of time. The visuals were absolutely majestic, yet the story managed to unfold with such grace and never dawdled. The actors proved worthy of the role they played and kept up their spirit throughout. It was also nice to feel a little light-heartedness among the fantasy, drama and suspense that occurred. To be honest, I couldn't really point out what was actually bad about it, because it just looks like one of the best fantasy epics ever made.\n",
            "\n",
            "neu probably one of the best fantasy movies out there,with epic effects,a well made story and the movie followed the book well(although they did leave one epic scene out).The music added to the move was brilliant and perfectly matched with the film.Overall \n",
            "\n",
            "neu probably one of the best fantasy movies out there,with epic effects,a well made story and the movie followed the book well(although they did leave one epic scene out).The music added to the move was brilliant and perfectly matched with the film.Overall \n",
            "\n",
            "neu Possibly the best movie ever. It feels like your seeing the book, I unfortunetly watched the movie then read the book, such a mistake. Visually stunning. Sir Ian Mckellen was brilliant as Gandalf, this movie is almost flawless. That is why I give it a ten. The fools who rate this movie low should be ashamed! \n",
            "\n",
            "neu Possibly the best movie ever. It feels like your seeing the book, I unfortunetly watched the movie then read the book, such a mistake. Visually stunning. Sir Ian Mckellen was brilliant as Gandalf, this movie is almost flawless. That is why I give it a ten. The fools who rate this movie low should be ashamed! \n",
            "\n",
            "neg This movie was true to the books. Everything in the movie looked the way I imagined it looking when I read the book long ago when I was a boy. Although, I usually don't like CGI, the CGI in this trilogy is absolutely great. As are the costumes and sets. Gollum is the first CGI character from a serious film that I have liked. It is probably because he was basically a virtual puppet that an actual puppeteer,controlled and they recorded the data points in a computer and then drew the CGI around his movements. Way better than Jar Jar Binks in Start Wars lol\n",
            "\n",
            "neg This movie was true to the books. Everything in the movie looked the way I imagined it looking when I read the book long ago when I was a boy. Although, I usually don't like CGI, the CGI in this trilogy is absolutely great. As are the costumes and sets. Gollum is the first CGI character from a serious film that I have liked. It is probably because he was basically a virtual puppet that an actual puppeteer,controlled and they recorded the data points in a computer and then drew the CGI around his movements. Way better than Jar Jar Binks in Start Wars lol\n",
            "\n",
            "neg Perfectly directed, adapted, written, acted and orchestrated, \"The Fellowship of the Ring\" is a near perfect film in my eyes. From the sequence on the Shire to the final scene in the film, \"The Fellowship of the Ring\" is briskly paced, completely engaging and emotionally powerful. This film is my all time favourite!\n",
            "neg Perfectly directed, adapted, written, acted and orchestrated, \"The Fellowship of the Ring\" is a near perfect film in my eyes. From the sequence on the Shire to the final scene in the film, \"The Fellowship of the Ring\" is briskly paced, completely engaging and emotionally powerful. This film is my all time favourite!\n",
            "neg Quite possibly the worst movie I have ever seen. I mean this. Even bad movies are better, because at least the directors of those know thy're not making art. What sent this picture plummeting off the scale, earning a complete zero, was the impression I had that Jackson thought he was creating a work of art. What a joke. In fact, I wish it were a joke -- a bunch of one-dimensional characters speaking a sort of bad-Shakespeare dialect. Good lord\n",
            "\n",
            "neg Unrealistic, false, boring and a thousand more aspects for not to see it, stupid, watching that movie is an idiocy.\n",
            "\n",
            "neg An embarrassing, cringeworthy self insert vigilante fanfic for gravy seals who fantasize about being the 'good guy with a gun'. 50 shades of grey for the ammosexual crowd\n",
            "\n",
            "neg Horrible acting, poorly written, poor production quality, can't believe I wasted almost 2 hours on this.\n",
            "\n",
            "neg This movie is a nightmare, I tend to not watch movies much so I can't say a lot about high quality, but this movie completely mocks school shooters and makes a joke out of it, as you see everyone stumbling around and really making a serious topic into Die hard. I won't lie, it made me angry, I did come into this movie with low expectations because Ben Shapiro, but this felt more than just the weird conservative Christian ideas shoved in, this tended to be just completely unbelievable, and I feel as if a lot of the characteristics were almost intentionally done, not to mention the record of the studio behind this and just I can't structure much more together because I can't really find a way to summarize how much i hate this\n",
            "Accuracy: 0.5000\n"
          ]
        }
      ]
    },
    {
      "cell_type": "markdown",
      "source": [
        "# Общий комментарий:\n",
        "Результат не очень хороший (точность 0,5), полагаю за счет того, что в выборке пошел перекос: слов в негативной подборке в 2 раза больше, чем в позитивной, если это исправить, думаю, все станет намного лучше (но у меня уже нет на это времени, т.к. надо срочно отправить дз.)"
      ],
      "metadata": {
        "id": "BiDKZ2h064fR"
      }
    },
    {
      "cell_type": "markdown",
      "source": [
        "5. Предложите как минимум 2 способа улучшить эту программу с помощью добавления к ней любых мулек (1 балл за описание словами, 2 - если реализуете хотя бы один способ)"
      ],
      "metadata": {
        "id": "V6FxXopqOtS9"
      }
    },
    {
      "cell_type": "markdown",
      "source": [
        "# Идея улучшения:\n",
        "\n",
        "\n",
        "*   Исходя из нашего частотного словаря, принимать во внимание, что одни слова чаще встречаются в (положительных/ отрицательных) отзывах,чем другие. (+)\n",
        "* Выкинуть все стоп-слова (они, вероятно и так выкинуться, но это сократит время работы алгоритма) (+)\n",
        "* Лемматизировать слова (+)\n",
        "* Проверять язык отзывов в тестовой выборке, чтобы иноязычный мусор не портил статистику(+)\n",
        "*   Учитывать контекст (какие-то ближайшие соседние слова)\n",
        "*   Учитывать специфику отзыва (на что он сделан.) Например для стройматериала жесткий - это хорошо, а для дивана - нет\n",
        "\n",
        "\n",
        "\n"
      ],
      "metadata": {
        "id": "RXFdeRGgiFEh"
      }
    },
    {
      "cell_type": "markdown",
      "source": [],
      "metadata": {
        "id": "Op-EIfZgOzVr"
      }
    }
  ]
}